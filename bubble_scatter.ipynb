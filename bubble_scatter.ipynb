{
 "cells": [
  {
   "cell_type": "code",
   "execution_count": 5,
   "metadata": {},
   "outputs": [
    {
     "name": "stdout",
     "output_type": "stream",
     "text": [
      "C:\\Users\\Indra Fajar\\Documents\\datapythonBDG\n",
      "D:\\\n"
     ]
    }
   ],
   "source": [
    "import os\n",
    "print(os.getcwd())\n",
    "\n",
    "os.chdir(\"D:\")\n",
    "print(os.getcwd())"
   ]
  },
  {
   "cell_type": "code",
   "execution_count": 144,
   "metadata": {},
   "outputs": [
    {
     "name": "stdout",
     "output_type": "stream",
     "text": [
      "<class 'numpy.ndarray'>\n",
      "<class 'numpy.ndarray'>\n",
      "<class 'numpy.ndarray'>\n",
      "<class 'numpy.ndarray'>\n",
      "13.852032562115808\n",
      "<class 'numpy.ndarray'>\n",
      "<class 'numpy.ndarray'>\n",
      "                Provinsi  IMK2017    PCE17  Prop_san_17        Pulau\n",
      "0                   ACEH    96.41   902994    63.376832     Sumatera\n",
      "1         SUMATERA UTARA   101.49   909817    72.996144     Sumatera\n",
      "2         SUMATERA BARAT    95.33  1053803    52.768564     Sumatera\n",
      "3                   RIAU    94.73  1120937    70.042120     Sumatera\n",
      "4                  JAMBI    88.39   969224    64.199501     Sumatera\n",
      "5       SUMATERA SELATAN    98.64   924846    66.357529     Sumatera\n",
      "6               BENGKULU    93.27   990908    42.705447     Sumatera\n",
      "7                LAMPUNG    90.09   849293    52.894236     Sumatera\n",
      "8   KEP. BANGKA BELITUNG   101.71  1360994    83.563202     Sumatera\n",
      "9              KEP. RIAU   122.72  1564877    86.327684     Sumatera\n",
      "10           DKI JAKARTA   117.57  1997446    91.128123         Jawa\n",
      "11            JAWA BARAT    96.78  1103337    64.398341         Jawa\n",
      "12           JAWA TENGAH    93.05   827223    71.836515         Jawa\n",
      "13         DI YOGYAKARTA    92.52  1140166    89.403310         Jawa\n",
      "14            JAWA TIMUR    97.50   938801    68.829713         Jawa\n",
      "15                BANTEN    97.88  1251971    71.676275         Jawa\n",
      "16                  BALI   111.64  1332084    90.506534  Sunda Kecil\n",
      "17   NUSA TENGGARA BARAT    91.63   821052    69.245761  Sunda Kecil\n",
      "18   NUSA TENGGARA TIMUR    95.94   681483    45.310349  Sunda Kecil\n",
      "19      KALIMANTAN BARAT   109.12   929135    49.652481   Kalimantan\n",
      "20     KALIMANTAN TENGAH    97.47  1134979    45.455141   Kalimantan\n",
      "21    KALIMANTAN SELATAN   101.67  1157805    58.092967   Kalimantan\n",
      "22      KALIMANTAN TIMUR   109.21  1443927    72.828201   Kalimantan\n",
      "23      KALIMANTAN UTARA   118.27  1303765    66.585344   Kalimantan\n",
      "24        SULAWESI UTARA   112.05  1106712    71.926735     Sulawesi\n",
      "25       SULAWESI TENGAH    88.13   918349    61.116711     Sulawesi\n",
      "26      SULAWESI SELATAN    95.57   927908    76.729941     Sulawesi\n",
      "27     SULAWESI TENGGARA    99.75   853719    69.517288     Sulawesi\n",
      "28             GORONTALO    92.76   898382    58.748341     Sulawesi\n",
      "29        SULAWESI BARAT    88.61   722625    59.483545     Sulawesi\n",
      "30                MALUKU   121.06   903859    63.289411       Maluku\n",
      "31          MALUKU UTARA   120.92   926794    66.177803       Maluku\n",
      "32           PAPUA BARAT   140.04  1121891    65.303452        Papua\n",
      "33                 PAPUA   229.82  1079860    33.055423        Papua\n"
     ]
    }
   ],
   "source": [
    "#making plot with bubbles#\n",
    "#seriusan ini mah, kudu dicoba link kuliah online yg dikasih adit#\n",
    "import pandas as pd\n",
    "import numpy as np\n",
    "sanitasi = pd.read_stata(\"sanitasi_mahal.dta\")\n",
    "np_sanitasi = np.array(sanitasi)\n",
    "print(type(np_sanitasi))\n",
    "Provinsi = np.array(np_sanitasi[:,0],dtype=str)\n",
    "print(type(Provinsi))\n",
    "IMK = np.array(np_sanitasi[:,1], dtype=float)\n",
    "print(type(IMK))\n",
    "PCE = np.array(np_sanitasi[:,2], dtype=int)\n",
    "print(type(PCE))\n",
    "log_PCE=np.log(PCE)\n",
    "print(np.mean(log_PCE))\n",
    "Sanitasi_Layak = np_sanitasi[:,3]\n",
    "print(type(Sanitasi_Layak))\n",
    "Pulau = np.array(np_sanitasi[:,4],dtype=str)\n",
    "print(type(Pulau))\n",
    "print(sanitasi)\n"
   ]
  },
  {
   "cell_type": "code",
   "execution_count": 158,
   "metadata": {},
   "outputs": [
    {
     "name": "stdout",
     "output_type": "stream",
     "text": [
      "0        red\n",
      "1        red\n",
      "2        red\n",
      "3        red\n",
      "4        red\n",
      "5        red\n",
      "6        red\n",
      "7        red\n",
      "8        red\n",
      "9        red\n",
      "10      blue\n",
      "11      blue\n",
      "12      blue\n",
      "13      blue\n",
      "14      blue\n",
      "15      blue\n",
      "16    orange\n",
      "17    orange\n",
      "18    orange\n",
      "19    yellow\n",
      "20    yellow\n",
      "21    yellow\n",
      "22    yellow\n",
      "23    yellow\n",
      "24     brown\n",
      "25     brown\n",
      "26     brown\n",
      "27     brown\n",
      "28     brown\n",
      "29     brown\n",
      "30    purple\n",
      "31    purple\n",
      "32     black\n",
      "33     black\n",
      "Name: Warna, dtype: object\n"
     ]
    }
   ],
   "source": [
    "for prov, row in sanitasi.iterrows():\n",
    "    if sanitasi.loc[prov, \"Pulau\"]==\"Sumatera\":\n",
    "        sanitasi.loc[prov, \"Warna\"] = \"red\"\n",
    "    elif sanitasi.loc[prov, \"Pulau\"]==\"Jawa\":\n",
    "        sanitasi.loc[prov, \"Warna\"] = \"blue\"\n",
    "    elif sanitasi.loc[prov, \"Pulau\"]==\"Kalimantan\":\n",
    "        sanitasi.loc[prov, \"Warna\"] = \"yellow\"\n",
    "    elif sanitasi.loc[prov, \"Pulau\"]==\"Sulawesi\":\n",
    "        sanitasi.loc[prov, \"Warna\"] = \"brown\"\n",
    "    elif sanitasi.loc[prov, \"Pulau\"]==\"Sunda Kecil\":\n",
    "        sanitasi.loc[prov, \"Warna\"] = \"orange\"\n",
    "    elif sanitasi.loc[prov, \"Pulau\"]==\"Maluku\":\n",
    "        sanitasi.loc[prov, \"Warna\"] = \"purple\"\n",
    "    elif sanitasi.loc[prov, \"Pulau\"]==\"Papua\":\n",
    "        sanitasi.loc[prov, \"Warna\"] = \"black\"\n",
    "        \n",
    "print(sanitasi[\"Warna\"])"
   ]
  },
  {
   "cell_type": "code",
   "execution_count": 160,
   "metadata": {},
   "outputs": [
    {
     "data": {
      "text/plain": [
       "<function matplotlib.pyplot.show(*args, **kw)>"
      ]
     },
     "execution_count": 160,
     "metadata": {},
     "output_type": "execute_result"
    },
    {
     "data": {
      "image/png": "[encoded data removed]",
      "text/plain": [
       "<Figure size 432x288 with 1 Axes>"
      ]
     },
     "metadata": {
      "needs_background": "light"
     },
     "output_type": "display_data"
    }
   ],
   "source": [
    "#making scatter plot#\n",
    "import matplotlib.pyplot as plt\n",
    "plt.scatter(sanitasi[\"PCE17\"], sanitasi[\"Prop_san_17\"], c=sanitasi[\"Warna\"],  s=sanitasi[\"IMK2017\"],  alpha=0.8)\n",
    "plt.xlabel(\"Pengeluaran Per Kapita (per bulan)\")\n",
    "plt.ylabel(\"Persentase Rumah tangga Sanitasi Layak (%)\")\n",
    "plt.title(\"Persentase Rumah Tangga Sanitasi Layak di Tiap Provinsi\")\n",
    "plt.text(1150000,35,\"Papua\")\n",
    "plt.grid(True)\n",
    "plt.show"
   ]
  }
 ],
 "metadata": {
  "kernelspec": {
   "display_name": "Python 3",
   "language": "python",
   "name": "python3"
  },
  "language_info": {
   "codemirror_mode": {
    "name": "ipython",
    "version": 3
   },
   "file_extension": ".py",
   "mimetype": "text/x-python",
   "name": "python",
   "nbconvert_exporter": "python",
   "pygments_lexer": "ipython3",
   "version": "3.7.0"
  }
 },
 "nbformat": 4,
 "nbformat_minor": 2
}
