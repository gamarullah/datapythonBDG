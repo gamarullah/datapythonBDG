{
 "cells": [
  {
   "cell_type": "code",
   "execution_count": 6,
   "metadata": {},
   "outputs": [
    {
     "name": "stdout",
     "output_type": "stream",
     "text": [
      "0  kuadrat sama dengan  2\n",
      "1  kuadrat sama dengan  3\n",
      "2  kuadrat sama dengan  4\n",
      "3  kuadrat sama dengan  5\n",
      "4  kuadrat sama dengan  6\n",
      "5  kuadrat sama dengan  7\n",
      "6  kuadrat sama dengan  8\n",
      "7  kuadrat sama dengan  9\n",
      "8  kuadrat sama dengan  10\n",
      "9  kuadrat sama dengan  11\n"
     ]
    }
   ],
   "source": [
    "def indra(x):\n",
    "    return x+2;\n",
    "\n",
    "# indra(2,3)\n",
    "\n",
    "for N in range (0,10):\n",
    "    print(N, \" kuadrat sama dengan \", indra(N))"
   ]
  },
  {
   "cell_type": "code",
   "execution_count": 5,
   "metadata": {},
   "outputs": [
    {
     "data": {
      "text/plain": [
       "49"
      ]
     },
     "execution_count": 5,
     "metadata": {},
     "output_type": "execute_result"
    }
   ],
   "source": [
    "indra(7)\n"
   ]
  },
  {
   "cell_type": "code",
   "execution_count": null,
   "metadata": {},
   "outputs": [],
   "source": []
  },
  {
   "cell_type": "code",
   "execution_count": null,
   "metadata": {},
   "outputs": [],
   "source": []
  },
  {
   "cell_type": "code",
   "execution_count": null,
   "metadata": {},
   "outputs": [],
   "source": []
  }
 ],
 "metadata": {
  "kernelspec": {
   "display_name": "Python 3",
   "language": "python",
   "name": "python3"
  },
  "language_info": {
   "codemirror_mode": {
    "name": "ipython",
    "version": 3
   },
   "file_extension": ".py",
   "mimetype": "text/x-python",
   "name": "python",
   "nbconvert_exporter": "python",
   "pygments_lexer": "ipython3",
   "version": "3.7.0"
  }
 },
 "nbformat": 4,
 "nbformat_minor": 2
}
