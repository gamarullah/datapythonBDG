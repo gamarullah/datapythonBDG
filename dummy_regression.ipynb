{
 "cells": [
  {
   "cell_type": "code",
   "execution_count": 1,
   "metadata": {},
   "outputs": [],
   "source": [
    "# Libraries\n",
    "import pandas as pd\n",
    "import numpy as np\n",
    "import statsmodels.formula.api as smf"
   ]
  },
  {
   "cell_type": "code",
   "execution_count": 3,
   "metadata": {},
   "outputs": [],
   "source": [
    "# Data manipulating\n",
    "SE = pd.read_stata('data/self_employment.dta')\n",
    "pd.set_option('display.max_columns', 100)\n",
    "pd.set_option('display.max_rows', 10)"
   ]
  },
  {
   "cell_type": "code",
   "execution_count": 4,
   "metadata": {},
   "outputs": [],
   "source": [
    "# Creating new quadratic variable\n",
    "# data['newvar'] = data.oldvar ** 2\n",
    "SE['agesqr'] = SE.age ** 2"
   ]
  },
  {
   "cell_type": "code",
   "execution_count": 13,
   "metadata": {},
   "outputs": [
    {
     "name": "stdout",
     "output_type": "stream",
     "text": [
      "Optimization terminated successfully.\n",
      "         Current function value: 0.512539\n",
      "         Iterations 6\n",
      "Optimization terminated successfully.\n",
      "         Current function value: 0.512862\n",
      "         Iterations 6\n"
     ]
    }
   ],
   "source": [
    "# Probit Regression\n",
    "model1 = smf.probit('selfemployed ~ age + agesqr + female + pce + tertiary_educ', data=SE).fit()\n",
    "\n",
    "# Logit Regression\n",
    "model2 = smf.logit('selfemployed ~ age + agesqr + female + pce + tertiary_educ', data=SE).fit()"
   ]
  },
  {
   "cell_type": "code",
   "execution_count": 14,
   "metadata": {},
   "outputs": [
    {
     "name": "stdout",
     "output_type": "stream",
     "text": [
      "                          Probit Regression Results                           \n",
      "==============================================================================\n",
      "Dep. Variable:           selfemployed   No. Observations:                83738\n",
      "Model:                         Probit   Df Residuals:                    83732\n",
      "Method:                           MLE   Df Model:                            5\n",
      "Date:                Tue, 27 Nov 2018   Pseudo R-squ.:                  0.1283\n",
      "Time:                        19:21:53   Log-Likelihood:                -42919.\n",
      "converged:                       True   LL-Null:                       -49235.\n",
      "                                        LLR p-value:                     0.000\n",
      "=================================================================================\n",
      "                    coef    std err          z      P>|z|      [0.025      0.975]\n",
      "---------------------------------------------------------------------------------\n",
      "Intercept        -3.1126      0.034    -91.772      0.000      -3.179      -3.046\n",
      "age               0.1205      0.002     75.991      0.000       0.117       0.124\n",
      "agesqr           -0.0011   1.71e-05    -64.370      0.000      -0.001      -0.001\n",
      "female           -0.4895      0.010    -49.348      0.000      -0.509      -0.470\n",
      "pce           -6.166e-09    7.5e-09     -0.823      0.411   -2.09e-08    8.53e-09\n",
      "tertiary_educ    -0.5872      0.024    -24.159      0.000      -0.635      -0.540\n",
      "=================================================================================\n",
      "                           Logit Regression Results                           \n",
      "==============================================================================\n",
      "Dep. Variable:           selfemployed   No. Observations:                83738\n",
      "Model:                          Logit   Df Residuals:                    83732\n",
      "Method:                           MLE   Df Model:                            5\n",
      "Date:                Tue, 27 Nov 2018   Pseudo R-squ.:                  0.1277\n",
      "Time:                        19:21:53   Log-Likelihood:                -42946.\n",
      "converged:                       True   LL-Null:                       -49235.\n",
      "                                        LLR p-value:                     0.000\n",
      "=================================================================================\n",
      "                    coef    std err          z      P>|z|      [0.025      0.975]\n",
      "---------------------------------------------------------------------------------\n",
      "Intercept        -5.3600      0.063    -85.512      0.000      -5.483      -5.237\n",
      "age               0.2090      0.003     72.402      0.000       0.203       0.215\n",
      "agesqr           -0.0019   3.09e-05    -61.987      0.000      -0.002      -0.002\n",
      "female           -0.8362      0.017    -49.555      0.000      -0.869      -0.803\n",
      "pce           -1.254e-08   1.29e-08     -0.975      0.329   -3.77e-08    1.27e-08\n",
      "tertiary_educ    -1.0562      0.044    -23.762      0.000      -1.143      -0.969\n",
      "=================================================================================\n"
     ]
    }
   ],
   "source": [
    "# Result\n",
    "print(model1.summary())\n",
    "print(model2.summary())"
   ]
  },
  {
   "cell_type": "code",
   "execution_count": null,
   "metadata": {},
   "outputs": [],
   "source": []
  },
  {
   "cell_type": "code",
   "execution_count": 15,
   "metadata": {},
   "outputs": [
    {
     "data": {
      "text/html": [
       "<table class=\"simpletable\">\n",
       "<caption>Probit Marginal Effects</caption>\n",
       "<tr>\n",
       "  <th>Dep. Variable:</th> <td>selfemployed</td>\n",
       "</tr>\n",
       "<tr>\n",
       "  <th>Method:</th>            <td>dydx</td>    \n",
       "</tr>\n",
       "<tr>\n",
       "  <th>At:</th>                <td>mean</td>    \n",
       "</tr>\n",
       "</table>\n",
       "<table class=\"simpletable\">\n",
       "<tr>\n",
       "        <th></th>           <th>dy/dx</th>    <th>std err</th>      <th>z</th>      <th>P>|z|</th>  <th>[0.025</th>    <th>0.975]</th>  \n",
       "</tr>\n",
       "<tr>\n",
       "  <th>age</th>           <td>    0.0373</td> <td>    0.000</td> <td>   79.295</td> <td> 0.000</td> <td>    0.036</td> <td>    0.038</td>\n",
       "</tr>\n",
       "<tr>\n",
       "  <th>agesqr</th>        <td>   -0.0003</td> <td> 5.14e-06</td> <td>  -66.418</td> <td> 0.000</td> <td>   -0.000</td> <td>   -0.000</td>\n",
       "</tr>\n",
       "<tr>\n",
       "  <th>female</th>        <td>   -0.1524</td> <td>    0.003</td> <td>  -49.632</td> <td> 0.000</td> <td>   -0.158</td> <td>   -0.146</td>\n",
       "</tr>\n",
       "<tr>\n",
       "  <th>pce</th>           <td> -1.91e-09</td> <td> 2.32e-09</td> <td>   -0.823</td> <td> 0.411</td> <td>-6.46e-09</td> <td> 2.64e-09</td>\n",
       "</tr>\n",
       "<tr>\n",
       "  <th>tertiary_educ</th> <td>   -0.1459</td> <td>    0.005</td> <td>  -32.040</td> <td> 0.000</td> <td>   -0.155</td> <td>   -0.137</td>\n",
       "</tr>\n",
       "</table>"
      ],
      "text/plain": [
       "<class 'statsmodels.iolib.summary.Summary'>\n",
       "\"\"\"\n",
       "       Probit Marginal Effects       \n",
       "=====================================\n",
       "Dep. Variable:           selfemployed\n",
       "Method:                          dydx\n",
       "At:                              mean\n",
       "=================================================================================\n",
       "                   dy/dx    std err          z      P>|z|      [0.025      0.975]\n",
       "---------------------------------------------------------------------------------\n",
       "age               0.0373      0.000     79.295      0.000       0.036       0.038\n",
       "agesqr           -0.0003   5.14e-06    -66.418      0.000      -0.000      -0.000\n",
       "female           -0.1524      0.003    -49.632      0.000      -0.158      -0.146\n",
       "pce            -1.91e-09   2.32e-09     -0.823      0.411   -6.46e-09    2.64e-09\n",
       "tertiary_educ    -0.1459      0.005    -32.040      0.000      -0.155      -0.137\n",
       "=================================================================================\n",
       "\"\"\""
      ]
     },
     "execution_count": 15,
     "metadata": {},
     "output_type": "execute_result"
    }
   ],
   "source": [
    "# Marginal effect\n",
    "model1.get_margeff(at='mean', method='dydx', atexog=None, dummy=True, count=False).summary()"
   ]
  },
  {
   "cell_type": "code",
   "execution_count": 16,
   "metadata": {},
   "outputs": [
    {
     "data": {
      "text/html": [
       "<table class=\"simpletable\">\n",
       "<caption>Probit Marginal Effects</caption>\n",
       "<tr>\n",
       "  <th>Dep. Variable:</th> <td>selfemployed</td>\n",
       "</tr>\n",
       "<tr>\n",
       "  <th>Method:</th>            <td>dydx</td>    \n",
       "</tr>\n",
       "<tr>\n",
       "  <th>At:</th>                <td>mean</td>    \n",
       "</tr>\n",
       "</table>\n",
       "<table class=\"simpletable\">\n",
       "<tr>\n",
       "        <th></th>           <th>dy/dx</th>    <th>std err</th>      <th>z</th>      <th>P>|z|</th>  <th>[0.025</th>    <th>0.975]</th>  \n",
       "</tr>\n",
       "<tr>\n",
       "  <th>age</th>           <td>    0.0373</td> <td>    0.000</td> <td>   79.485</td> <td> 0.000</td> <td>    0.036</td> <td>    0.038</td>\n",
       "</tr>\n",
       "<tr>\n",
       "  <th>agesqr</th>        <td>   -0.0003</td> <td> 5.14e-06</td> <td>  -66.418</td> <td> 0.000</td> <td>   -0.000</td> <td>   -0.000</td>\n",
       "</tr>\n",
       "<tr>\n",
       "  <th>female</th>        <td>   -0.1524</td> <td>    0.003</td> <td>  -49.632</td> <td> 0.000</td> <td>   -0.158</td> <td>   -0.146</td>\n",
       "</tr>\n",
       "<tr>\n",
       "  <th>pce</th>           <td> -1.91e-09</td> <td> 2.32e-09</td> <td>   -0.823</td> <td> 0.411</td> <td>-6.46e-09</td> <td> 2.64e-09</td>\n",
       "</tr>\n",
       "<tr>\n",
       "  <th>tertiary_educ</th> <td>   -0.1459</td> <td>    0.005</td> <td>  -32.040</td> <td> 0.000</td> <td>   -0.155</td> <td>   -0.137</td>\n",
       "</tr>\n",
       "</table>"
      ],
      "text/plain": [
       "<class 'statsmodels.iolib.summary.Summary'>\n",
       "\"\"\"\n",
       "       Probit Marginal Effects       \n",
       "=====================================\n",
       "Dep. Variable:           selfemployed\n",
       "Method:                          dydx\n",
       "At:                              mean\n",
       "=================================================================================\n",
       "                   dy/dx    std err          z      P>|z|      [0.025      0.975]\n",
       "---------------------------------------------------------------------------------\n",
       "age               0.0373      0.000     79.485      0.000       0.036       0.038\n",
       "agesqr           -0.0003   5.14e-06    -66.418      0.000      -0.000      -0.000\n",
       "female           -0.1524      0.003    -49.632      0.000      -0.158      -0.146\n",
       "pce            -1.91e-09   2.32e-09     -0.823      0.411   -6.46e-09    2.64e-09\n",
       "tertiary_educ    -0.1459      0.005    -32.040      0.000      -0.155      -0.137\n",
       "=================================================================================\n",
       "\"\"\""
      ]
     },
     "execution_count": 16,
     "metadata": {},
     "output_type": "execute_result"
    }
   ],
   "source": [
    "model1.get_margeff(at='mean', method='dydx', atexog=None, dummy=True, count=True).summary()"
   ]
  },
  {
   "cell_type": "code",
   "execution_count": 12,
   "metadata": {},
   "outputs": [
    {
     "data": {
      "text/html": [
       "<table class=\"simpletable\">\n",
       "<caption>Logit Marginal Effects</caption>\n",
       "<tr>\n",
       "  <th>Dep. Variable:</th> <td>selfemployed</td>\n",
       "</tr>\n",
       "<tr>\n",
       "  <th>Method:</th>            <td>dydx</td>    \n",
       "</tr>\n",
       "<tr>\n",
       "  <th>At:</th>                <td>mean</td>    \n",
       "</tr>\n",
       "</table>\n",
       "<table class=\"simpletable\">\n",
       "<tr>\n",
       "        <th></th>           <th>dy/dx</th>    <th>std err</th>      <th>z</th>      <th>P>|z|</th>  <th>[0.025</th>    <th>0.975]</th>  \n",
       "</tr>\n",
       "<tr>\n",
       "  <th>age</th>           <td>    0.0370</td> <td>    0.000</td> <td>   79.465</td> <td> 0.000</td> <td>    0.036</td> <td>    0.038</td>\n",
       "</tr>\n",
       "<tr>\n",
       "  <th>agesqr</th>        <td>   -0.0003</td> <td>  5.1e-06</td> <td>  -66.626</td> <td> 0.000</td> <td>   -0.000</td> <td>   -0.000</td>\n",
       "</tr>\n",
       "<tr>\n",
       "  <th>female</th>        <td>   -0.1493</td> <td>    0.003</td> <td>  -50.252</td> <td> 0.000</td> <td>   -0.155</td> <td>   -0.144</td>\n",
       "</tr>\n",
       "<tr>\n",
       "  <th>tertiary_educ</th> <td>   -0.1420</td> <td>    0.004</td> <td>  -35.559</td> <td> 0.000</td> <td>   -0.150</td> <td>   -0.134</td>\n",
       "</tr>\n",
       "</table>"
      ],
      "text/plain": [
       "<class 'statsmodels.iolib.summary.Summary'>\n",
       "\"\"\"\n",
       "        Logit Marginal Effects       \n",
       "=====================================\n",
       "Dep. Variable:           selfemployed\n",
       "Method:                          dydx\n",
       "At:                              mean\n",
       "=================================================================================\n",
       "                   dy/dx    std err          z      P>|z|      [0.025      0.975]\n",
       "---------------------------------------------------------------------------------\n",
       "age               0.0370      0.000     79.465      0.000       0.036       0.038\n",
       "agesqr           -0.0003    5.1e-06    -66.626      0.000      -0.000      -0.000\n",
       "female           -0.1493      0.003    -50.252      0.000      -0.155      -0.144\n",
       "tertiary_educ    -0.1420      0.004    -35.559      0.000      -0.150      -0.134\n",
       "=================================================================================\n",
       "\"\"\""
      ]
     },
     "execution_count": 12,
     "metadata": {},
     "output_type": "execute_result"
    }
   ],
   "source": [
    "model2.get_margeff(at='mean', method='dydx', atexog=None, dummy=True, count=False).summary()"
   ]
  }
 ],
 "metadata": {
  "kernelspec": {
   "display_name": "Python 3",
   "language": "python",
   "name": "python3"
  },
  "language_info": {
   "codemirror_mode": {
    "name": "ipython",
    "version": 3
   },
   "file_extension": ".py",
   "mimetype": "text/x-python",
   "name": "python",
   "nbconvert_exporter": "python",
   "pygments_lexer": "ipython3",
   "version": "3.7.0"
  }
 },
 "nbformat": 4,
 "nbformat_minor": 2
}
