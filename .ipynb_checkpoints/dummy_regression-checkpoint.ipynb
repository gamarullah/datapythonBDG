{
 "cells": [
  {
   "cell_type": "code",
   "execution_count": 1,
   "metadata": {},
   "outputs": [],
   "source": [
    "# Libraries\n",
    "import pandas as pd\n",
    "import numpy as np\n",
    "import statsmodels.formula.api as smf"
   ]
  },
  {
   "cell_type": "code",
   "execution_count": 3,
   "metadata": {},
   "outputs": [],
   "source": [
    "# Data manipulating\n",
    "SE = pd.read_stata('data/self_employment.dta')\n",
    "pd.set_option('display.max_columns', 100)\n",
    "pd.set_option('display.max_rows', 10)"
   ]
  },
  {
   "cell_type": "code",
   "execution_count": 4,
   "metadata": {},
   "outputs": [],
   "source": [
    "# Creating new quadratic variable\n",
    "# data['newvar'] = data.oldvar ** 2\n",
    "SE['agesqr'] = SE.age ** 2"
   ]
  },
  {
   "cell_type": "code",
   "execution_count": 9,
   "metadata": {},
   "outputs": [
    {
     "name": "stdout",
     "output_type": "stream",
     "text": [
      "Optimization terminated successfully.\n",
      "         Current function value: 0.512647\n",
      "         Iterations 6\n",
      "Optimization terminated successfully.\n",
      "         Current function value: 0.512927\n",
      "         Iterations 6\n"
     ]
    }
   ],
   "source": [
    "# Probit Regression\n",
    "model1 = smf.probit('selfemployed ~ age + agesqr + female + tertiary_educ', data=SE).fit()\n",
    "\n",
    "# Logit Regression\n",
    "model2 = smf.logit('selfemployed ~ age + agesqr + female + tertiary_educ', data=SE).fit()"
   ]
  },
  {
   "cell_type": "code",
   "execution_count": 10,
   "metadata": {},
   "outputs": [
    {
     "name": "stdout",
     "output_type": "stream",
     "text": [
      "                          Probit Regression Results                           \n",
      "==============================================================================\n",
      "Dep. Variable:           selfemployed   No. Observations:                86120\n",
      "Model:                         Probit   Df Residuals:                    86115\n",
      "Method:                           MLE   Df Model:                            4\n",
      "Date:                Tue, 27 Nov 2018   Pseudo R-squ.:                  0.1273\n",
      "Time:                        19:10:36   Log-Likelihood:                -44149.\n",
      "converged:                       True   LL-Null:                       -50592.\n",
      "                                        LLR p-value:                     0.000\n",
      "=================================================================================\n",
      "                    coef    std err          z      P>|z|      [0.025      0.975]\n",
      "---------------------------------------------------------------------------------\n",
      "Intercept        -3.1046      0.033    -93.139      0.000      -3.170      -3.039\n",
      "age               0.1200      0.002     76.813      0.000       0.117       0.123\n",
      "agesqr           -0.0011   1.69e-05    -65.092      0.000      -0.001      -0.001\n",
      "female           -0.4868      0.010    -49.783      0.000      -0.506      -0.468\n",
      "tertiary_educ    -0.5846      0.023    -25.721      0.000      -0.629      -0.540\n",
      "=================================================================================\n",
      "                           Logit Regression Results                           \n",
      "==============================================================================\n",
      "Dep. Variable:           selfemployed   No. Observations:                86120\n",
      "Model:                          Logit   Df Residuals:                    86115\n",
      "Method:                           MLE   Df Model:                            4\n",
      "Date:                Tue, 27 Nov 2018   Pseudo R-squ.:                  0.1269\n",
      "Time:                        19:10:36   Log-Likelihood:                -44173.\n",
      "converged:                       True   LL-Null:                       -50592.\n",
      "                                        LLR p-value:                     0.000\n",
      "=================================================================================\n",
      "                    coef    std err          z      P>|z|      [0.025      0.975]\n",
      "---------------------------------------------------------------------------------\n",
      "Intercept        -5.3498      0.062    -86.761      0.000      -5.471      -5.229\n",
      "age               0.2083      0.003     73.195      0.000       0.203       0.214\n",
      "agesqr           -0.0019   3.05e-05    -62.686      0.000      -0.002      -0.002\n",
      "female           -0.8322      0.017    -50.013      0.000      -0.865      -0.800\n",
      "tertiary_educ    -1.0537      0.042    -25.295      0.000      -1.135      -0.972\n",
      "=================================================================================\n"
     ]
    }
   ],
   "source": [
    "# Result\n",
    "print(model1.summary())\n",
    "print(model2.summary())"
   ]
  },
  {
   "cell_type": "code",
   "execution_count": 11,
   "metadata": {},
   "outputs": [
    {
     "data": {
      "text/html": [
       "<table class=\"simpletable\">\n",
       "<caption>Probit Marginal Effects</caption>\n",
       "<tr>\n",
       "  <th>Dep. Variable:</th> <td>selfemployed</td>\n",
       "</tr>\n",
       "<tr>\n",
       "  <th>Method:</th>            <td>dydx</td>    \n",
       "</tr>\n",
       "<tr>\n",
       "  <th>At:</th>                <td>mean</td>    \n",
       "</tr>\n",
       "</table>\n",
       "<table class=\"simpletable\">\n",
       "<tr>\n",
       "        <th></th>           <th>dy/dx</th>    <th>std err</th>      <th>z</th>      <th>P>|z|</th>  <th>[0.025</th>    <th>0.975]</th>  \n",
       "</tr>\n",
       "<tr>\n",
       "  <th>age</th>           <td>    0.0372</td> <td>    0.000</td> <td>   80.104</td> <td> 0.000</td> <td>    0.036</td> <td>    0.038</td>\n",
       "</tr>\n",
       "<tr>\n",
       "  <th>agesqr</th>        <td>   -0.0003</td> <td> 5.07e-06</td> <td>  -67.132</td> <td> 0.000</td> <td>   -0.000</td> <td>   -0.000</td>\n",
       "</tr>\n",
       "<tr>\n",
       "  <th>female</th>        <td>   -0.1514</td> <td>    0.003</td> <td>  -50.070</td> <td> 0.000</td> <td>   -0.157</td> <td>   -0.146</td>\n",
       "</tr>\n",
       "<tr>\n",
       "  <th>tertiary_educ</th> <td>   -0.1457</td> <td>    0.004</td> <td>  -33.945</td> <td> 0.000</td> <td>   -0.154</td> <td>   -0.137</td>\n",
       "</tr>\n",
       "</table>"
      ],
      "text/plain": [
       "<class 'statsmodels.iolib.summary.Summary'>\n",
       "\"\"\"\n",
       "       Probit Marginal Effects       \n",
       "=====================================\n",
       "Dep. Variable:           selfemployed\n",
       "Method:                          dydx\n",
       "At:                              mean\n",
       "=================================================================================\n",
       "                   dy/dx    std err          z      P>|z|      [0.025      0.975]\n",
       "---------------------------------------------------------------------------------\n",
       "age               0.0372      0.000     80.104      0.000       0.036       0.038\n",
       "agesqr           -0.0003   5.07e-06    -67.132      0.000      -0.000      -0.000\n",
       "female           -0.1514      0.003    -50.070      0.000      -0.157      -0.146\n",
       "tertiary_educ    -0.1457      0.004    -33.945      0.000      -0.154      -0.137\n",
       "=================================================================================\n",
       "\"\"\""
      ]
     },
     "execution_count": 11,
     "metadata": {},
     "output_type": "execute_result"
    }
   ],
   "source": [
    "# Marginal effect\n",
    "model1.get_margeff(at='mean', method='dydx', atexog=None, dummy=True, count=False).summary()"
   ]
  },
  {
   "cell_type": "code",
   "execution_count": 12,
   "metadata": {},
   "outputs": [
    {
     "data": {
      "text/html": [
       "<table class=\"simpletable\">\n",
       "<caption>Logit Marginal Effects</caption>\n",
       "<tr>\n",
       "  <th>Dep. Variable:</th> <td>selfemployed</td>\n",
       "</tr>\n",
       "<tr>\n",
       "  <th>Method:</th>            <td>dydx</td>    \n",
       "</tr>\n",
       "<tr>\n",
       "  <th>At:</th>                <td>mean</td>    \n",
       "</tr>\n",
       "</table>\n",
       "<table class=\"simpletable\">\n",
       "<tr>\n",
       "        <th></th>           <th>dy/dx</th>    <th>std err</th>      <th>z</th>      <th>P>|z|</th>  <th>[0.025</th>    <th>0.975]</th>  \n",
       "</tr>\n",
       "<tr>\n",
       "  <th>age</th>           <td>    0.0370</td> <td>    0.000</td> <td>   79.465</td> <td> 0.000</td> <td>    0.036</td> <td>    0.038</td>\n",
       "</tr>\n",
       "<tr>\n",
       "  <th>agesqr</th>        <td>   -0.0003</td> <td>  5.1e-06</td> <td>  -66.626</td> <td> 0.000</td> <td>   -0.000</td> <td>   -0.000</td>\n",
       "</tr>\n",
       "<tr>\n",
       "  <th>female</th>        <td>   -0.1493</td> <td>    0.003</td> <td>  -50.252</td> <td> 0.000</td> <td>   -0.155</td> <td>   -0.144</td>\n",
       "</tr>\n",
       "<tr>\n",
       "  <th>tertiary_educ</th> <td>   -0.1420</td> <td>    0.004</td> <td>  -35.559</td> <td> 0.000</td> <td>   -0.150</td> <td>   -0.134</td>\n",
       "</tr>\n",
       "</table>"
      ],
      "text/plain": [
       "<class 'statsmodels.iolib.summary.Summary'>\n",
       "\"\"\"\n",
       "        Logit Marginal Effects       \n",
       "=====================================\n",
       "Dep. Variable:           selfemployed\n",
       "Method:                          dydx\n",
       "At:                              mean\n",
       "=================================================================================\n",
       "                   dy/dx    std err          z      P>|z|      [0.025      0.975]\n",
       "---------------------------------------------------------------------------------\n",
       "age               0.0370      0.000     79.465      0.000       0.036       0.038\n",
       "agesqr           -0.0003    5.1e-06    -66.626      0.000      -0.000      -0.000\n",
       "female           -0.1493      0.003    -50.252      0.000      -0.155      -0.144\n",
       "tertiary_educ    -0.1420      0.004    -35.559      0.000      -0.150      -0.134\n",
       "=================================================================================\n",
       "\"\"\""
      ]
     },
     "execution_count": 12,
     "metadata": {},
     "output_type": "execute_result"
    }
   ],
   "source": [
    "model2.get_margeff(at='mean', method='dydx', atexog=None, dummy=True, count=False).summary()"
   ]
  },
  {
   "cell_type": "code",
   "execution_count": null,
   "metadata": {},
   "outputs": [],
   "source": []
  }
 ],
 "metadata": {
  "kernelspec": {
   "display_name": "Python 3",
   "language": "python",
   "name": "python3"
  },
  "language_info": {
   "codemirror_mode": {
    "name": "ipython",
    "version": 3
   },
   "file_extension": ".py",
   "mimetype": "text/x-python",
   "name": "python",
   "nbconvert_exporter": "python",
   "pygments_lexer": "ipython3",
   "version": "3.7.0"
  }
 },
 "nbformat": 4,
 "nbformat_minor": 2
}
