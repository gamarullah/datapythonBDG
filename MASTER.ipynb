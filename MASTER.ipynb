{
 "cells": [
  {
   "cell_type": "code",
   "execution_count": 3,
   "metadata": {},
   "outputs": [],
   "source": [
    "# LIBRARIES\n",
    "import pandas as pd\n",
    "import numpy as np\n",
    "import statsmodels.formula.api as smf"
   ]
  },
  {
   "cell_type": "code",
   "execution_count": 4,
   "metadata": {},
   "outputs": [],
   "source": [
    "# DATA\n",
    "LL = pd.read_stata('data\\LL_train.dta')\n",
    "pd.set_option('display.max_columns', 50)\n",
    "pd.set_option('display.max_rows', 10)\n",
    "\n",
    "SE = pd.read_stata('data\\self_employment.dta')\n",
    "pd.set_option('display.max_columns', 100)\n",
    "pd.set_option('display.max_rows', 10)"
   ]
  },
  {
   "cell_type": "code",
   "execution_count": 5,
   "metadata": {},
   "outputs": [],
   "source": [
    "# MANIPULATION\n",
    "\n",
    "## Create income per million variable\n",
    "## # data['newvar'] = data.oldvar / 1000000\n",
    "LL['income_mill'] = LL.income_month/1000000\n",
    "\n",
    "## Create new quadratic variable\n",
    "## data['newvar'] = data.oldvar ** 2\n",
    "SE['agesqr'] = SE.age ** 2"
   ]
  },
  {
   "cell_type": "code",
   "execution_count": null,
   "metadata": {},
   "outputs": [],
   "source": [
    "# OLS REGRESSION\n",
    "\n",
    "## Y = income_month\n",
    "### OLS Regression\n",
    "ols1 = smf.ols('income_month ~ age + agesqr + female', data=LL).fit()\n",
    "\n",
    "### OLS Regression with quadratic variable (assuming agesqr is not exist)\n",
    "ols2 = smf.ols('income_month ~ age + I(age**2) + female', data=LL).fit()\n",
    "\n",
    "\n",
    "## Y = income_mill\n",
    "#### OLS Regression\n",
    "ols3 = smf.ols('income_mill ~ age + agesqr + female', data=LL).fit()\n",
    "\n",
    "#### OLS Regression with quadratic variable (assuming agesqr is not exist)\n",
    "ols4 = smf.ols('income_mill ~ age + I(age**2) + female', data=LL).fit()"
   ]
  },
  {
   "cell_type": "code",
   "execution_count": null,
   "metadata": {},
   "outputs": [],
   "source": [
    "# RESULT \n",
    "## [income_month]\n",
    "print(ols1.summary())\n",
    "print(ols2.summary())\n",
    "\n",
    "## [income_mill]\n",
    "print(ols3.summary())\n",
    "print(ols4.summary())"
   ]
  },
  {
   "cell_type": "code",
   "execution_count": null,
   "metadata": {},
   "outputs": [],
   "source": [
    "# DUMMY REGRESSION\n",
    "## Probit Regression\n",
    "probit1 = smf.probit('selfemployed ~ age + agesqr + female', data=SE).fit()\n",
    "\n",
    "## Logit Regression\n",
    "logit1 = smf.logit('selfemployed ~ age + agesqr + female', data=SE).fit()"
   ]
  },
  {
   "cell_type": "code",
   "execution_count": null,
   "metadata": {},
   "outputs": [],
   "source": [
    "# RESULT\n",
    "## Probit\n",
    "print(probit1.summary())\n",
    "\n",
    "## Logit\n",
    "print(logit1.summary())"
   ]
  },
  {
   "cell_type": "code",
   "execution_count": null,
   "metadata": {},
   "outputs": [],
   "source": [
    "## Marginal effect [Probit]\n",
    "## ref: https://www.statsmodels.org/dev/generated/statsmodels.discrete.discrete_model.LogitResults.get_margeff.html#statsmodels.discrete.discrete_model.LogitResults.get_margeff\n",
    "probit1.get_margeff(at='mean', method='dydx', atexog=None, dummy=True, count=False).summary()"
   ]
  },
  {
   "cell_type": "code",
   "execution_count": null,
   "metadata": {},
   "outputs": [],
   "source": [
    "## Marginal effect [Logit]\n",
    "logit1.get_margeff(at='mean', method='dydx', atexog=None, dummy=True, count=False).summary()"
   ]
  },
  {
   "cell_type": "code",
   "execution_count": null,
   "metadata": {},
   "outputs": [],
   "source": []
  }
 ],
 "metadata": {
  "kernelspec": {
   "display_name": "Python 3",
   "language": "python",
   "name": "python3"
  },
  "language_info": {
   "codemirror_mode": {
    "name": "ipython",
    "version": 3
   },
   "file_extension": ".py",
   "mimetype": "text/x-python",
   "name": "python",
   "nbconvert_exporter": "python",
   "pygments_lexer": "ipython3",
   "version": "3.7.0"
  }
 },
 "nbformat": 4,
 "nbformat_minor": 2
}
